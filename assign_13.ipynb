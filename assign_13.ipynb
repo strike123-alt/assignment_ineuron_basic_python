{
 "cells": [
  {
   "cell_type": "markdown",
   "id": "7660c9d7",
   "metadata": {},
   "source": [
    "## 1. What advantages do Excel spreadsheets have over CSV spreadsheets?"
   ]
  },
  {
   "cell_type": "markdown",
   "id": "7fccfb70",
   "metadata": {},
   "source": [
    "Excel spreadsheets and CSV (Comma-Separated Values) spreadsheets both have their own advantages, and the choice of which to use may depend on the specific needs and requirements of the user.\n",
    "\n",
    "Some of the advantages of using Excel spreadsheets over CSV spreadsheets include:\n",
    "\n",
    "1. Graphical User Interface (GUI): Excel provides a graphical user interface, which makes it easier for users to input, edit, and visualize data. This can be especially useful for those who are not familiar with programming or text-based data manipulation.\n",
    "\n",
    "2. Advanced calculations and analysis: Excel provides a wide range of functions and formulas for performing complex calculations and data analysis. This can be a significant advantage for users who need to process and analyze large amounts of data.\n",
    "\n",
    "3. Customizable formatting: Excel allows users to format cells, rows, and columns in a variety of ways, including changing font size and color, adding borders and shading, and using conditional formatting to highlight specific cells based on their contents.\n",
    "\n",
    "4. Built-in charts and graphs: Excel provides a variety of built-in charts and graphs that can be used to visualize data in a variety of ways. This can be a significant advantage for users who need to present their data to others in a clear and concise manner."
   ]
  },
  {
   "cell_type": "markdown",
   "id": "e2c40d85",
   "metadata": {},
   "source": [
    "## 2.What do you pass to csv.reader() and csv.writer() to create reader and writer objects?"
   ]
  },
  {
   "cell_type": "markdown",
   "id": "b2f0a057",
   "metadata": {},
   "source": [
    "Reading from a CSV file is done using the reader object. \n",
    "The CSV file is opened as a text file with Python’s built-in open() function, \n",
    "which returns a file object. This is then passed to the reader"
   ]
  },
  {
   "cell_type": "markdown",
   "id": "01c4fefa",
   "metadata": {},
   "source": [
    "Writing: call open() and pass it 'w' to open a file in write mode \n",
    "- his will create the object you can then pass to csv.writer()\n",
    "- to create a Writer object."
   ]
  },
  {
   "cell_type": "code",
   "execution_count": 2,
   "id": "7d91b316",
   "metadata": {},
   "outputs": [
    {
     "name": "stdout",
     "output_type": "stream",
     "text": [
      "Row #1 ['Date', ' Name', ' Mobile_No']\n",
      "Row #2 ['12/07/1971', ' Paresh Pandya', ' 9511628xxx']\n",
      "Row #3 ['12/08/2009 Umran Khan', ' 89526532xx']\n"
     ]
    }
   ],
   "source": [
    "import csv\n",
    "exampleFile = open('./example.csv')\n",
    "exampleReader = csv.reader(exampleFile)\n",
    "for row in exampleReader:\n",
    "        print('Row #' + str(exampleReader.line_num) + ' ' + str(row))"
   ]
  },
  {
   "cell_type": "code",
   "execution_count": 3,
   "id": "a5160b2d",
   "metadata": {},
   "outputs": [],
   "source": [
    "outputFile = open('output.csv', 'w', newline='')\n",
    "outputWriter = csv.writer(outputFile)\n",
    "outputWriter.writerow(['spam', 'eggs', 'bacon', 'ham'])\n",
    "outputWriter.writerow(['Hello, world!', 'eggs', 'bacon', 'ham'])\n",
    "outputWriter.writerow([1, 2, 3.141592, 4])\n",
    "outputFile.close()"
   ]
  },
  {
   "cell_type": "markdown",
   "id": "c796762a",
   "metadata": {},
   "source": [
    "## 3. What modes do File objects for reader and writer objects need to be opened in?"
   ]
  },
  {
   "cell_type": "markdown",
   "id": "48380e3c",
   "metadata": {},
   "source": [
    "A file object allows us to use, access and manipulate all the user accessible files. One can read and write any such files.\n",
    "When a file operation fails for an I/O-related reason, the exception IOError is raised. This includes situations where the operation is not defined for some reason, like seek() on a tty device or writing a file opened for reading.\n",
    "Files have the following methods:\n",
    "\n",
    "open(): Opens a file in given access mode.\n",
    "open(file_address, access_mode) "
   ]
  },
  {
   "cell_type": "markdown",
   "id": "fe4a1598",
   "metadata": {},
   "source": [
    "There are different types of access_modes:\n",
    "\n",
    "- r: Opens a file for reading only\n",
    "- r+: Opens a file for both reading and writing\n",
    "- w: Opens a file for writing only\n",
    "- w+: Open a file for writing and reading.\n",
    "- a: Opens a file for appending\n",
    "- a+: Opens a file for both appending and reading\n",
    "    \n",
    "When you add 'b' to the access modes you can read the file in binary format rather than the default text format. It is used when the file to be accessed is not in text."
   ]
  },
  {
   "cell_type": "markdown",
   "id": "218d8a83",
   "metadata": {},
   "source": [
    "## 4. What method takes a list argument and writes it to a CSV file?"
   ]
  },
  {
   "cell_type": "markdown",
   "id": "4b188a08",
   "metadata": {},
   "source": [
    "To write each of the list elements as a row, we use the write.writerows () and pass into them the items list as a parameter. \n",
    "But as now we have only one list, we will use the writerow() method only."
   ]
  },
  {
   "cell_type": "code",
   "execution_count": null,
   "id": "fc41bd70",
   "metadata": {},
   "outputs": [],
   "source": [
    "outputFile = open('output.csv', 'w', newline='')\n",
    "outputWriter = csv.writer(outputFile)\n",
    "outputWriter.writerow(['spam', 'eggs', 'bacon', 'ham'])\n",
    "outputWriter.writerow(['Hello, world!', 'eggs', 'bacon', 'ham'])\n",
    "outputWriter.writerow([1, 2, 3.141592, 4])\n",
    "outputFile.close()"
   ]
  },
  {
   "cell_type": "code",
   "execution_count": 4,
   "id": "f81999a8",
   "metadata": {},
   "outputs": [],
   "source": [
    "data = [[\"Name\", \"Age\", \"City\"],\n",
    "        [\"John Doe\", 32, \"New York\"],\n",
    "        [\"Jane Doe\", 30, \"London\"]]\n",
    "\n",
    "with open(\"example.csv\", \"w\", newline=\"\") as file:\n",
    "    writer = csv.writer(file)\n",
    "    writer.writerows(data)"
   ]
  },
  {
   "cell_type": "markdown",
   "id": "2aa4ad48",
   "metadata": {},
   "source": [
    "## 5. What do the keyword arguments delimiter and line terminator do?"
   ]
  },
  {
   "cell_type": "markdown",
   "id": "170188b9",
   "metadata": {},
   "source": [
    "- The delimiter is the character that appears between cells on a row. By default, the delimiter for a CSV file is a comma. \n",
    "- The line terminator is the character that comes at the end of a row. By default, the line terminator is a newline. \n",
    "- You can change characters to different values by using the delimiter and lineterminator keyword arguments with csv.writer()."
   ]
  },
  {
   "cell_type": "code",
   "execution_count": 14,
   "id": "23a7d4cc",
   "metadata": {},
   "outputs": [],
   "source": [
    "csvFile = open('example.tsv', 'w', newline='')\n",
    "csvWriter = csv.writer(csvFile, delimiter='\\t', lineterminator='\\n\\n')\n",
    "csvWriter.writerow(['apples', 'oranges', 'grapes'])\n",
    "csvWriter.writerow(['eggs', 'bacon', 'ham'])\n",
    "csvFile.close()"
   ]
  },
  {
   "cell_type": "code",
   "execution_count": 19,
   "id": "f9fc1bdc",
   "metadata": {},
   "outputs": [],
   "source": [
    "exampleFile = open('./example.tsv')\n",
    "exampleReader = csv.reader(exampleFile)"
   ]
  },
  {
   "cell_type": "code",
   "execution_count": 20,
   "id": "78e8373d",
   "metadata": {},
   "outputs": [
    {
     "name": "stdout",
     "output_type": "stream",
     "text": [
      "['apples\\toranges\\tgrapes']\n",
      "[]\n",
      "['eggs\\tbacon\\tham']\n",
      "[]\n"
     ]
    }
   ],
   "source": [
    "for row in exampleReader:\n",
    "    print(str(row))"
   ]
  },
  {
   "cell_type": "markdown",
   "id": "3a4ed004",
   "metadata": {},
   "source": [
    "## 6. What function takes a string of JSON data and returns a Python data structure?"
   ]
  },
  {
   "cell_type": "markdown",
   "id": "56bd2be9",
   "metadata": {},
   "source": [
    "* Using json.loads(): We use the json.loads() method to parse a JSON string and return a Python object such as a dictionary. The json.loads() method takes the file contents as a string."
   ]
  },
  {
   "cell_type": "code",
   "execution_count": 28,
   "id": "dceaaf22",
   "metadata": {},
   "outputs": [],
   "source": [
    "import json\n",
    "with open('temp.json', 'r') as file_object:  \n",
    "    data = json.load(file_object) "
   ]
  },
  {
   "cell_type": "code",
   "execution_count": 30,
   "id": "3f8ea6f6",
   "metadata": {},
   "outputs": [
    {
     "data": {
      "text/plain": [
       "dict"
      ]
     },
     "execution_count": 30,
     "metadata": {},
     "output_type": "execute_result"
    }
   ],
   "source": [
    "type(data)"
   ]
  },
  {
   "cell_type": "markdown",
   "id": "f95de703",
   "metadata": {},
   "source": [
    "json.load() takes a file object and returns the json object. It is used to read JSON encoded data from a file and convert it into a Python dictionary and deserialize a file itself i.e. it accepts a file object."
   ]
  },
  {
   "cell_type": "markdown",
   "id": "bb6c1a99",
   "metadata": {},
   "source": [
    "json.loads() method can be used to parse a valid JSON string and convert it into a Python Dictionary. It is mainly used for deserializing native string, byte, or byte array which consists of JSON data into Python Dictionary."
   ]
  },
  {
   "cell_type": "markdown",
   "id": "23c95768",
   "metadata": {},
   "source": [
    "## 7. What function takes a Python data structure and returns a string of JSON data?"
   ]
  },
  {
   "cell_type": "markdown",
   "id": "60a65a87",
   "metadata": {},
   "source": [
    "If you have a Python object, you can convert it into a JSON string by using the json.dumps() method."
   ]
  },
  {
   "cell_type": "code",
   "execution_count": 31,
   "id": "43083fc0",
   "metadata": {},
   "outputs": [
    {
     "name": "stdout",
     "output_type": "stream",
     "text": [
      "{\"name\": \"John\", \"age\": 30, \"city\": \"New York\"}\n"
     ]
    }
   ],
   "source": [
    "# a Python object (dict):\n",
    "x = {\n",
    "  \"name\": \"John\",\n",
    "  \"age\": 30,\n",
    "  \"city\": \"New York\"\n",
    "}\n",
    "\n",
    "# convert into JSON:\n",
    "y = json.dumps(x)\n",
    "\n",
    "# the result is a JSON string:\n",
    "print(y)"
   ]
  }
 ],
 "metadata": {
  "kernelspec": {
   "display_name": "Python 3 (ipykernel)",
   "language": "python",
   "name": "python3"
  },
  "language_info": {
   "codemirror_mode": {
    "name": "ipython",
    "version": 3
   },
   "file_extension": ".py",
   "mimetype": "text/x-python",
   "name": "python",
   "nbconvert_exporter": "python",
   "pygments_lexer": "ipython3",
   "version": "3.10.9"
  }
 },
 "nbformat": 4,
 "nbformat_minor": 5
}
