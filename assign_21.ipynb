{
 "cells": [
  {
   "cell_type": "markdown",
   "id": "84e7e683",
   "metadata": {},
   "source": [
    "## 1. Add the current date to the text file today.txt as a string."
   ]
  },
  {
   "cell_type": "code",
   "execution_count": 6,
   "id": "321269de",
   "metadata": {},
   "outputs": [
    {
     "name": "stdout",
     "output_type": "stream",
     "text": [
      "2023-02-19 18:25:46.442460\n"
     ]
    }
   ],
   "source": [
    "from datetime import datetime\n",
    "print(datetime.now())"
   ]
  },
  {
   "cell_type": "code",
   "execution_count": 25,
   "id": "9f313e4c",
   "metadata": {},
   "outputs": [],
   "source": [
    "with open(\"today.txt\", 'w') as f:\n",
    "    f.write(str(datetime.now()).strip('')[:10])"
   ]
  },
  {
   "cell_type": "markdown",
   "id": "2b55928f",
   "metadata": {},
   "source": [
    "## 2. Read the text file today.txt into the string today_string"
   ]
  },
  {
   "cell_type": "code",
   "execution_count": 26,
   "id": "1db0bf79",
   "metadata": {},
   "outputs": [
    {
     "data": {
      "text/plain": [
       "'2023-02-19'"
      ]
     },
     "execution_count": 26,
     "metadata": {},
     "output_type": "execute_result"
    }
   ],
   "source": [
    "with open('today.txt', 'r') as f:\n",
    "    today_string = f.readline()\n",
    "today_string"
   ]
  },
  {
   "cell_type": "markdown",
   "id": "0b4a4c59",
   "metadata": {},
   "source": [
    "## 3. Parse the date from today_string."
   ]
  },
  {
   "cell_type": "code",
   "execution_count": 27,
   "id": "8ab4e554",
   "metadata": {},
   "outputs": [
    {
     "data": {
      "text/plain": [
       "'19'"
      ]
     },
     "execution_count": 27,
     "metadata": {},
     "output_type": "execute_result"
    }
   ],
   "source": [
    "today_string[8:]"
   ]
  },
  {
   "cell_type": "markdown",
   "id": "ddc42de7",
   "metadata": {},
   "source": [
    "## 4. List the files in your current directory"
   ]
  },
  {
   "cell_type": "code",
   "execution_count": 28,
   "id": "6857253e",
   "metadata": {},
   "outputs": [],
   "source": [
    "import os"
   ]
  },
  {
   "cell_type": "code",
   "execution_count": 29,
   "id": "903a4f80",
   "metadata": {},
   "outputs": [
    {
     "data": {
      "text/plain": [
       "['.git',\n",
       " '.ipynb_checkpoints',\n",
       " '.txt',\n",
       " 'ABC',\n",
       " 'abc.txt',\n",
       " 'abc.zip',\n",
       " 'assign_1.ipynb',\n",
       " 'assign_10.ipynb',\n",
       " 'assign_11.ipynb',\n",
       " 'assign_12.ipynb',\n",
       " 'assign_13.ipynb',\n",
       " 'assign_14.ipynb',\n",
       " 'assign_15.ipynb',\n",
       " 'assign_16.ipynb',\n",
       " 'assign_17.ipynb',\n",
       " 'assign_18.ipynb',\n",
       " 'assign_19.ipynb',\n",
       " 'assign_2.ipynb',\n",
       " 'assign_20.ipynb',\n",
       " 'assign_21.ipynb',\n",
       " 'assign_3.ipynb',\n",
       " 'assign_4.ipynb',\n",
       " 'assign_5.ipynb',\n",
       " 'assign_6.ipynb',\n",
       " 'assign_8.ipynb',\n",
       " 'assign_9.ipynb',\n",
       " 'books.csv',\n",
       " 'books.db',\n",
       " 'croped_img.png',\n",
       " 'Data',\n",
       " 'doc.docx',\n",
       " 'example.csv',\n",
       " 'example.log',\n",
       " 'example.tsv',\n",
       " 'hello.docx',\n",
       " 'output.csv',\n",
       " 'out_pdf.pdf',\n",
       " 'programLog.txt',\n",
       " 'Python-task-01',\n",
       " 'sample.pdf',\n",
       " 't.zip',\n",
       " 'task questions part 2.ipynb',\n",
       " 'temp.json',\n",
       " 'test.txt',\n",
       " 'todat.txt',\n",
       " 'today.txt',\n",
       " 'Untitled.ipynb',\n",
       " 'zoo.py',\n",
       " '__pycache__']"
      ]
     },
     "execution_count": 29,
     "metadata": {},
     "output_type": "execute_result"
    }
   ],
   "source": [
    "os.listdir()"
   ]
  },
  {
   "cell_type": "markdown",
   "id": "476e996a",
   "metadata": {},
   "source": [
    "## 5. Create a list of all of the files in your parent directory (minimum five files should be available)."
   ]
  },
  {
   "cell_type": "code",
   "execution_count": 31,
   "id": "1a1bdbde",
   "metadata": {},
   "outputs": [
    {
     "name": "stdout",
     "output_type": "stream",
     "text": [
      "New Bitmap image.bmp\n",
      "New Microsoft Access Database.accdb\n",
      "New Microsoft Publisher Document.pub\n",
      "New Microsoft Word Document.docx\n",
      "New Text Document.txt\n",
      "Python\n"
     ]
    }
   ],
   "source": [
    "import os\n",
    "\n",
    "parent_dir = os.path.dirname(os.getcwd())\n",
    "for filename in os.listdir(parent_dir):\n",
    "    print(filename)"
   ]
  },
  {
   "cell_type": "markdown",
   "id": "f3aa211c",
   "metadata": {},
   "source": [
    "## 6. Use multiprocessing to create three separate processes. Make each one wait a random number of seconds between one and five, print the current time, and then exit."
   ]
  },
  {
   "cell_type": "code",
   "execution_count": 68,
   "id": "7335a03b",
   "metadata": {},
   "outputs": [],
   "source": [
    "import multiprocessing\n",
    "import random\n",
    "from datetime import datetime\n",
    "import time\n",
    "\n",
    "def print_data():\n",
    "    print(f'Date: {datetime.now()}')\n",
    "    print(f'parent process: {os.getppid()}\\nprocess id: {os.getpid()}')\n",
    "\n",
    "def sleep_sec():\n",
    "    wait = random.randint(0, 5)\n",
    "    print(f'wait: {wait}')\n",
    "    time.sleep(wait)\n",
    "    print('Sleep End')\n",
    "    print(f'Process Name: {multiprocessing.current_process().name}')\n",
    "    print_data()\n",
    "    print('End')\n"
   ]
  },
  {
   "cell_type": "code",
   "execution_count": 73,
   "id": "43707d12",
   "metadata": {},
   "outputs": [
    {
     "name": "stdout",
     "output_type": "stream",
     "text": [
      "Main Line\n"
     ]
    }
   ],
   "source": [
    "print('Main Line')\n",
    "if __name__ == '__main__': \n",
    "    p1 = multiprocessing.Process(target = sleep_sec)\n",
    "    p1.start()\n",
    "\n",
    "    p2 = multiprocessing.Process(target = sleep_sec)\n",
    "\n",
    "    p2.start()\n",
    "    p3 = multiprocessing.Process(target = sleep_sec) \n",
    "    p3.start()\n",
    "\n",
    "    p1.join()\n",
    "    p2.join()\n",
    "    p3.join() \n",
    "\n"
   ]
  },
  {
   "cell_type": "markdown",
   "id": "ec0c10e7",
   "metadata": {},
   "source": [
    "## 7. Create a date object of your day of birth."
   ]
  },
  {
   "cell_type": "code",
   "execution_count": 77,
   "id": "24d69221",
   "metadata": {},
   "outputs": [
    {
     "name": "stdout",
     "output_type": "stream",
     "text": [
      "2001-07-26 00:00:00\n"
     ]
    }
   ],
   "source": [
    "date = datetime(2001, 7, 26)\n",
    "print(date)"
   ]
  },
  {
   "cell_type": "markdown",
   "id": "e21e72df",
   "metadata": {},
   "source": [
    "## 8. What day of the week was your day of birth?"
   ]
  },
  {
   "cell_type": "code",
   "execution_count": 80,
   "id": "53565ef3",
   "metadata": {},
   "outputs": [
    {
     "name": "stdout",
     "output_type": "stream",
     "text": [
      "My day of birth, 2001-07-26, was a Thursday.\n"
     ]
    }
   ],
   "source": [
    "\n",
    "date_obj = datetime.strptime('2001-07-26', '%Y-%m-%d')\n",
    "day_of_week = date_obj.strftime('%A')\n",
    "# %A format code to get the full weekday name. The day_of_week\n",
    "print(f\"My day of birth, {'2001-07-26'}, was a {day_of_week}.\")"
   ]
  },
  {
   "cell_type": "markdown",
   "id": "3f161245",
   "metadata": {},
   "source": [
    "## 9. When will you be (or when were you) 10,000 days old?"
   ]
  },
  {
   "cell_type": "code",
   "execution_count": 82,
   "id": "fb2fb060",
   "metadata": {},
   "outputs": [
    {
     "name": "stdout",
     "output_type": "stream",
     "text": [
      "If you were born on 2001-07-26, you will be (or were) 10,000 days old on 2028-12-11.\n"
     ]
    }
   ],
   "source": [
    "from datetime import timedelta\n",
    "birthdate_str = '2001-07-26'  # Replace with your own birthdate\n",
    "birthdate = datetime.strptime(birthdate_str, '%Y-%m-%d')\n",
    "\n",
    "ten_thousand_days = timedelta(days=10000)\n",
    "ten_thousand_days_after_birth = birthdate + ten_thousand_days\n",
    "\n",
    "print(f\"If you were born on {birthdate_str}, you will be (or were) 10,000 days old on {ten_thousand_days_after_birth.strftime('%Y-%m-%d')}.\")"
   ]
  }
 ],
 "metadata": {
  "kernelspec": {
   "display_name": "Python 3 (ipykernel)",
   "language": "python",
   "name": "python3"
  },
  "language_info": {
   "codemirror_mode": {
    "name": "ipython",
    "version": 3
   },
   "file_extension": ".py",
   "mimetype": "text/x-python",
   "name": "python",
   "nbconvert_exporter": "python",
   "pygments_lexer": "ipython3",
   "version": "3.10.9"
  }
 },
 "nbformat": 4,
 "nbformat_minor": 5
}
