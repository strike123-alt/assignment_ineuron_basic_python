{
  "nbformat": 4,
  "nbformat_minor": 0,
  "metadata": {
    "colab": {
      "provenance": []
    },
    "kernelspec": {
      "name": "python3",
      "display_name": "Python 3"
    },
    "language_info": {
      "name": "python"
    }
  },
  "cells": [
    {
      "cell_type": "code",
      "execution_count": 25,
      "metadata": {
        "id": "O-FsuKvhF3zD"
      },
      "outputs": [],
      "source": [
        "import matplotlib.pyplot as plt\n",
        "import numpy as np\n",
        "import pandas as pd\n",
        "import seaborn as sns"
      ]
    },
    {
      "cell_type": "markdown",
      "source": [
        "## 1. Set the variable test1 to the string &#39;This is a test of the emergency text system,&#39; and save test1 to a file named test.txt."
      ],
      "metadata": {
        "id": "2Ct4POqlIdkH"
      }
    },
    {
      "cell_type": "code",
      "source": [
        "test1 = 'This is a test of the emergency text system'\n",
        "with open('test.txt', 'w') as f:\n",
        "  f.write(test1)"
      ],
      "metadata": {
        "id": "o4eAcxfAIqy_"
      },
      "execution_count": 26,
      "outputs": []
    },
    {
      "cell_type": "markdown",
      "source": [
        "## 2. Read the contents of the file test.txt into the variable test2. Is there a difference between test 1 and test 2?"
      ],
      "metadata": {
        "id": "5NJSwunRJRvX"
      }
    },
    {
      "cell_type": "code",
      "source": [
        "with open('test.txt', 'r') as f:\n",
        "  test2 = f.read() # or readline()"
      ],
      "metadata": {
        "id": "A_KYEJlCJFV4"
      },
      "execution_count": 27,
      "outputs": []
    },
    {
      "cell_type": "code",
      "source": [
        "test2 == test1"
      ],
      "metadata": {
        "colab": {
          "base_uri": "https://localhost:8080/"
        },
        "id": "QnF6DYiIJkTC",
        "outputId": "fe7e3379-0b4c-4c56-93cb-c86ebf50ffe7"
      },
      "execution_count": 28,
      "outputs": [
        {
          "output_type": "execute_result",
          "data": {
            "text/plain": [
              "True"
            ]
          },
          "metadata": {},
          "execution_count": 28
        }
      ]
    },
    {
      "cell_type": "markdown",
      "source": [
        "3. Create a CSV file called books.csv by using these lines:\n",
        "- title,author,year\n",
        "- The Weirdstone of Brisingamen,Alan Garner,1960\n",
        "- Perdido Street Station,China Miéville,2000\n",
        "- Thud!,Terry Pratchett,2005\n",
        "- The Spellman Files,Lisa Lutz,2007\n",
        "- Small Gods,Terry Pratchett,1992"
      ],
      "metadata": {
        "id": "qAnOqeQKJ-Q3"
      }
    },
    {
      "cell_type": "code",
      "source": [
        "data = [['title', 'author', 'year'], ['The Weirdstone of Brisingamen', 'Alan Garner', '1960'], ['Perdido Street Station', 'Chain Miéville', '2000'], ['Thid!', 'Terry Pratchett', '2005'], ['THe Spellman Files', 'Lisa Lutz', '2007'], ['Small Gods', 'Terry Pratchett', '1992']]"
      ],
      "metadata": {
        "id": "OYvFHVEpJlja"
      },
      "execution_count": 29,
      "outputs": []
    },
    {
      "cell_type": "code",
      "source": [
        "import csv\n",
        "with open('books.csv', 'w') as f:\n",
        "  writer = csv.writer(f)\n",
        "  writer.writerows(data)"
      ],
      "metadata": {
        "id": "-A5KezYLLf7s"
      },
      "execution_count": 30,
      "outputs": []
    },
    {
      "cell_type": "markdown",
      "source": [
        "## 4. Use the sqlite3 module to create a SQLite database called books.db, and a table called books with these fields: title (text), author (text), and year (integer)."
      ],
      "metadata": {
        "id": "XjJZBxmpMqPD"
      }
    },
    {
      "cell_type": "code",
      "source": [
        "import sqlite3 as lite"
      ],
      "metadata": {
        "id": "9M2QCN1JLpFr"
      },
      "execution_count": 31,
      "outputs": []
    },
    {
      "cell_type": "code",
      "source": [
        "def create_connection(db):\n",
        "  conn = None\n",
        "  try:\n",
        "    conn = lite.connect(db)\n",
        "  except Exception as e:\n",
        "    print(e)\n",
        "  else:\n",
        "    return conn\n",
        "\n",
        "\n",
        "def create_table(conn, create_table):\n",
        "  try:\n",
        "    conn = conn.cursor()\n",
        "    conn.execute(create_table)\n",
        "  except Exception as e:\n",
        "    print(e)\n"
      ],
      "metadata": {
        "id": "SYAmJSNNNXe9"
      },
      "execution_count": 32,
      "outputs": []
    },
    {
      "cell_type": "code",
      "source": [
        "con = create_connection('books.db')"
      ],
      "metadata": {
        "id": "GfWyTjeyOQ-a"
      },
      "execution_count": 33,
      "outputs": []
    },
    {
      "cell_type": "code",
      "source": [
        "table_struct = \"\"\"\n",
        "create table if not exists books (\n",
        "  title text not null,\n",
        "  author text not null,\n",
        "  year integer not null\n",
        ");\n",
        "\"\"\""
      ],
      "metadata": {
        "id": "o3Z7my2LOapk"
      },
      "execution_count": 34,
      "outputs": []
    },
    {
      "cell_type": "code",
      "source": [
        "create_table(con, table_struct)"
      ],
      "metadata": {
        "id": "RTE0fecLPaaE"
      },
      "execution_count": 35,
      "outputs": []
    },
    {
      "cell_type": "markdown",
      "source": [
        "## 5. Read books.csv and insert its data into the book table."
      ],
      "metadata": {
        "id": "cQ5fno9IQy2p"
      }
    },
    {
      "cell_type": "code",
      "source": [
        "\n",
        "read_books = pd.read_csv('books.csv',encoding='unicode_escape')\n",
        "read_books.to_sql('books', con, if_exists='append', index = False)"
      ],
      "metadata": {
        "id": "92P9PabFPenU"
      },
      "execution_count": 36,
      "outputs": []
    },
    {
      "cell_type": "markdown",
      "source": [
        "## 6. Select and print the title column from the book table in alphabetical order."
      ],
      "metadata": {
        "id": "mi6pHYNESlSq"
      }
    },
    {
      "cell_type": "code",
      "source": [
        "conn = con.cursor()\n",
        "conn.execute('select title from books order by title asc')\n",
        "print(conn.fetchall())"
      ],
      "metadata": {
        "colab": {
          "base_uri": "https://localhost:8080/"
        },
        "id": "ioOzkxx-SXdf",
        "outputId": "f24740d4-77f8-46f0-f65d-520c5c5fcb92"
      },
      "execution_count": 37,
      "outputs": [
        {
          "output_type": "stream",
          "name": "stdout",
          "text": [
            "[('Perdido Street Station',), ('Perdido Street Station',), ('Small Gods',), ('Small Gods',), ('THe Spellman Files',), ('THe Spellman Files',), ('The Weirdstone of Brisingamen',), ('The Weirdstone of Brisingamen',), ('Thid!',), ('Thid!',)]\n"
          ]
        }
      ]
    },
    {
      "cell_type": "markdown",
      "source": [
        "## 7. From the book table, select and print all columns in the order of publication.\n"
      ],
      "metadata": {
        "id": "vwxWRwAXUiyp"
      }
    },
    {
      "cell_type": "code",
      "source": [
        "conn.execute('select * from books order by year')\n",
        "df = pd.DataFrame(conn.fetchall(), columns=['title','author','year'])\n",
        "df"
      ],
      "metadata": {
        "colab": {
          "base_uri": "https://localhost:8080/",
          "height": 363
        },
        "id": "GrDLIAByUk6p",
        "outputId": "827c42e3-a483-4d15-ca02-de49a121ccec"
      },
      "execution_count": 38,
      "outputs": [
        {
          "output_type": "execute_result",
          "data": {
            "text/plain": [
              "                           title           author  year\n",
              "0  The Weirdstone of Brisingamen      Alan Garner  1960\n",
              "1  The Weirdstone of Brisingamen      Alan Garner  1960\n",
              "2                     Small Gods  Terry Pratchett  1992\n",
              "3                     Small Gods  Terry Pratchett  1992\n",
              "4         Perdido Street Station  Chain MiÃ©ville  2000\n",
              "5         Perdido Street Station  Chain MiÃ©ville  2000\n",
              "6                          Thid!  Terry Pratchett  2005\n",
              "7                          Thid!  Terry Pratchett  2005\n",
              "8             THe Spellman Files        Lisa Lutz  2007\n",
              "9             THe Spellman Files        Lisa Lutz  2007"
            ],
            "text/html": [
              "\n",
              "  <div id=\"df-98bb6c54-1be1-45b2-bb17-8074deea14eb\">\n",
              "    <div class=\"colab-df-container\">\n",
              "      <div>\n",
              "<style scoped>\n",
              "    .dataframe tbody tr th:only-of-type {\n",
              "        vertical-align: middle;\n",
              "    }\n",
              "\n",
              "    .dataframe tbody tr th {\n",
              "        vertical-align: top;\n",
              "    }\n",
              "\n",
              "    .dataframe thead th {\n",
              "        text-align: right;\n",
              "    }\n",
              "</style>\n",
              "<table border=\"1\" class=\"dataframe\">\n",
              "  <thead>\n",
              "    <tr style=\"text-align: right;\">\n",
              "      <th></th>\n",
              "      <th>title</th>\n",
              "      <th>author</th>\n",
              "      <th>year</th>\n",
              "    </tr>\n",
              "  </thead>\n",
              "  <tbody>\n",
              "    <tr>\n",
              "      <th>0</th>\n",
              "      <td>The Weirdstone of Brisingamen</td>\n",
              "      <td>Alan Garner</td>\n",
              "      <td>1960</td>\n",
              "    </tr>\n",
              "    <tr>\n",
              "      <th>1</th>\n",
              "      <td>The Weirdstone of Brisingamen</td>\n",
              "      <td>Alan Garner</td>\n",
              "      <td>1960</td>\n",
              "    </tr>\n",
              "    <tr>\n",
              "      <th>2</th>\n",
              "      <td>Small Gods</td>\n",
              "      <td>Terry Pratchett</td>\n",
              "      <td>1992</td>\n",
              "    </tr>\n",
              "    <tr>\n",
              "      <th>3</th>\n",
              "      <td>Small Gods</td>\n",
              "      <td>Terry Pratchett</td>\n",
              "      <td>1992</td>\n",
              "    </tr>\n",
              "    <tr>\n",
              "      <th>4</th>\n",
              "      <td>Perdido Street Station</td>\n",
              "      <td>Chain MiÃ©ville</td>\n",
              "      <td>2000</td>\n",
              "    </tr>\n",
              "    <tr>\n",
              "      <th>5</th>\n",
              "      <td>Perdido Street Station</td>\n",
              "      <td>Chain MiÃ©ville</td>\n",
              "      <td>2000</td>\n",
              "    </tr>\n",
              "    <tr>\n",
              "      <th>6</th>\n",
              "      <td>Thid!</td>\n",
              "      <td>Terry Pratchett</td>\n",
              "      <td>2005</td>\n",
              "    </tr>\n",
              "    <tr>\n",
              "      <th>7</th>\n",
              "      <td>Thid!</td>\n",
              "      <td>Terry Pratchett</td>\n",
              "      <td>2005</td>\n",
              "    </tr>\n",
              "    <tr>\n",
              "      <th>8</th>\n",
              "      <td>THe Spellman Files</td>\n",
              "      <td>Lisa Lutz</td>\n",
              "      <td>2007</td>\n",
              "    </tr>\n",
              "    <tr>\n",
              "      <th>9</th>\n",
              "      <td>THe Spellman Files</td>\n",
              "      <td>Lisa Lutz</td>\n",
              "      <td>2007</td>\n",
              "    </tr>\n",
              "  </tbody>\n",
              "</table>\n",
              "</div>\n",
              "      <button class=\"colab-df-convert\" onclick=\"convertToInteractive('df-98bb6c54-1be1-45b2-bb17-8074deea14eb')\"\n",
              "              title=\"Convert this dataframe to an interactive table.\"\n",
              "              style=\"display:none;\">\n",
              "        \n",
              "  <svg xmlns=\"http://www.w3.org/2000/svg\" height=\"24px\"viewBox=\"0 0 24 24\"\n",
              "       width=\"24px\">\n",
              "    <path d=\"M0 0h24v24H0V0z\" fill=\"none\"/>\n",
              "    <path d=\"M18.56 5.44l.94 2.06.94-2.06 2.06-.94-2.06-.94-.94-2.06-.94 2.06-2.06.94zm-11 1L8.5 8.5l.94-2.06 2.06-.94-2.06-.94L8.5 2.5l-.94 2.06-2.06.94zm10 10l.94 2.06.94-2.06 2.06-.94-2.06-.94-.94-2.06-.94 2.06-2.06.94z\"/><path d=\"M17.41 7.96l-1.37-1.37c-.4-.4-.92-.59-1.43-.59-.52 0-1.04.2-1.43.59L10.3 9.45l-7.72 7.72c-.78.78-.78 2.05 0 2.83L4 21.41c.39.39.9.59 1.41.59.51 0 1.02-.2 1.41-.59l7.78-7.78 2.81-2.81c.8-.78.8-2.07 0-2.86zM5.41 20L4 18.59l7.72-7.72 1.47 1.35L5.41 20z\"/>\n",
              "  </svg>\n",
              "      </button>\n",
              "      \n",
              "  <style>\n",
              "    .colab-df-container {\n",
              "      display:flex;\n",
              "      flex-wrap:wrap;\n",
              "      gap: 12px;\n",
              "    }\n",
              "\n",
              "    .colab-df-convert {\n",
              "      background-color: #E8F0FE;\n",
              "      border: none;\n",
              "      border-radius: 50%;\n",
              "      cursor: pointer;\n",
              "      display: none;\n",
              "      fill: #1967D2;\n",
              "      height: 32px;\n",
              "      padding: 0 0 0 0;\n",
              "      width: 32px;\n",
              "    }\n",
              "\n",
              "    .colab-df-convert:hover {\n",
              "      background-color: #E2EBFA;\n",
              "      box-shadow: 0px 1px 2px rgba(60, 64, 67, 0.3), 0px 1px 3px 1px rgba(60, 64, 67, 0.15);\n",
              "      fill: #174EA6;\n",
              "    }\n",
              "\n",
              "    [theme=dark] .colab-df-convert {\n",
              "      background-color: #3B4455;\n",
              "      fill: #D2E3FC;\n",
              "    }\n",
              "\n",
              "    [theme=dark] .colab-df-convert:hover {\n",
              "      background-color: #434B5C;\n",
              "      box-shadow: 0px 1px 3px 1px rgba(0, 0, 0, 0.15);\n",
              "      filter: drop-shadow(0px 1px 2px rgba(0, 0, 0, 0.3));\n",
              "      fill: #FFFFFF;\n",
              "    }\n",
              "  </style>\n",
              "\n",
              "      <script>\n",
              "        const buttonEl =\n",
              "          document.querySelector('#df-98bb6c54-1be1-45b2-bb17-8074deea14eb button.colab-df-convert');\n",
              "        buttonEl.style.display =\n",
              "          google.colab.kernel.accessAllowed ? 'block' : 'none';\n",
              "\n",
              "        async function convertToInteractive(key) {\n",
              "          const element = document.querySelector('#df-98bb6c54-1be1-45b2-bb17-8074deea14eb');\n",
              "          const dataTable =\n",
              "            await google.colab.kernel.invokeFunction('convertToInteractive',\n",
              "                                                     [key], {});\n",
              "          if (!dataTable) return;\n",
              "\n",
              "          const docLinkHtml = 'Like what you see? Visit the ' +\n",
              "            '<a target=\"_blank\" href=https://colab.research.google.com/notebooks/data_table.ipynb>data table notebook</a>'\n",
              "            + ' to learn more about interactive tables.';\n",
              "          element.innerHTML = '';\n",
              "          dataTable['output_type'] = 'display_data';\n",
              "          await google.colab.output.renderOutput(dataTable, element);\n",
              "          const docLink = document.createElement('div');\n",
              "          docLink.innerHTML = docLinkHtml;\n",
              "          element.appendChild(docLink);\n",
              "        }\n",
              "      </script>\n",
              "    </div>\n",
              "  </div>\n",
              "  "
            ]
          },
          "metadata": {},
          "execution_count": 38
        }
      ]
    },
    {
      "cell_type": "markdown",
      "source": [
        "## 8. Use the sqlalchemy module to connect to the sqlite3 database books.db that you just made in exercise 6."
      ],
      "metadata": {
        "id": "iZ3PTleh2Dxl"
      }
    },
    {
      "cell_type": "code",
      "source": [
        "import sqlalchemy\n",
        "engine = sqlalchemy.create_engine(\"sqlite:///books.db\")\n",
        "rows = engine.execute('select * from books')\n",
        "for i in rows:\n",
        "    print(i)"
      ],
      "metadata": {
        "colab": {
          "base_uri": "https://localhost:8080/"
        },
        "id": "CbIB-NDK2B5l",
        "outputId": "58c60d10-b9af-42f2-e073-312633be0848"
      },
      "execution_count": 39,
      "outputs": [
        {
          "output_type": "stream",
          "name": "stdout",
          "text": [
            "('The Weirdstone of Brisingamen', 'Alan Garner', 1960)\n",
            "('Perdido Street Station', 'Chain MiÃ©ville', 2000)\n",
            "('Thid!', 'Terry Pratchett', 2005)\n",
            "('THe Spellman Files', 'Lisa Lutz', 2007)\n",
            "('Small Gods', 'Terry Pratchett', 1992)\n",
            "('The Weirdstone of Brisingamen', 'Alan Garner', 1960)\n",
            "('Perdido Street Station', 'Chain MiÃ©ville', 2000)\n",
            "('Thid!', 'Terry Pratchett', 2005)\n",
            "('THe Spellman Files', 'Lisa Lutz', 2007)\n",
            "('Small Gods', 'Terry Pratchett', 1992)\n"
          ]
        }
      ]
    },
    {
      "cell_type": "markdown",
      "source": [
        "## 9. Install the Redis server and the Python redis library (pip install redis) on your computer. Create a Redis hash alled test with the fields count (1) and name (&#39;Fester Bestertester&#39;).Print all the fields for test."
      ],
      "metadata": {
        "id": "lPXXhYcU28JJ"
      }
    },
    {
      "cell_type": "code",
      "source": [
        "!pip install redis"
      ],
      "metadata": {
        "colab": {
          "base_uri": "https://localhost:8080/"
        },
        "id": "jreWlDGX2sFA",
        "outputId": "822b5652-d7dd-4617-a887-347a5f76b7d0"
      },
      "execution_count": 40,
      "outputs": [
        {
          "output_type": "stream",
          "name": "stdout",
          "text": [
            "Looking in indexes: https://pypi.org/simple, https://us-python.pkg.dev/colab-wheels/public/simple/\n",
            "Requirement already satisfied: redis in /usr/local/lib/python3.8/dist-packages (4.5.1)\n",
            "Requirement already satisfied: async-timeout>=4.0.2 in /usr/local/lib/python3.8/dist-packages (from redis) (4.0.2)\n"
          ]
        }
      ]
    },
    {
      "cell_type": "code",
      "source": [
        "import redis\n",
        "conn = redis.Redis()\n",
        "conn.delete('test')\n",
        "conn.hmset('test', {'count': 1, 'name': 'Fester Bestertester'})\n",
        "conn.hgetall('test')"
      ],
      "metadata": {
        "id": "-mpShqbI3HJ_"
      },
      "execution_count": 40,
      "outputs": []
    },
    {
      "cell_type": "markdown",
      "source": [
        "## 10. Increment the count field of test and print it."
      ],
      "metadata": {
        "id": "m9Ga-H52B7hw"
      }
    },
    {
      "cell_type": "code",
      "source": [
        "conn.hincrby('test','count', 3)"
      ],
      "metadata": {
        "id": "YKeSMORSCEzD"
      },
      "execution_count": null,
      "outputs": []
    }
  ]
}