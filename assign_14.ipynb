{
 "cells": [
  {
   "cell_type": "markdown",
   "id": "ac14754e",
   "metadata": {},
   "source": [
    "## 1. What does RGBA stand for?"
   ]
  },
  {
   "cell_type": "markdown",
   "id": "92c44534",
   "metadata": {},
   "source": [
    "RGBA(Red-Green-Blue-Alpha): The RGB color model is extended in this specification to include “alpha” to allow specification of the opacity of a color."
   ]
  },
  {
   "cell_type": "markdown",
   "id": "d8aa8a75",
   "metadata": {},
   "source": [
    "The format of the RGBA Value\n",
    "1. rgba(R,G,B,A) -integer-\n",
    "The format of an RGBA value in the functional notation is ‘rgba(’ followed by a comma-separated list of three numerical values (three integer values), followed by an <alphavalue>, followed by ‘)’.\n",
    "\n",
    "2. rgba(R,G,B,A) -percentage-\n",
    "The format of an RGBA value in the functional notation is ‘rgba(’ followed by a comma-separated list of three numerical values (three percentage values), followed by an <alphavalue>, followed by ‘)’."
   ]
  },
  {
   "cell_type": "markdown",
   "id": "b144ec65",
   "metadata": {},
   "source": [
    "## 2. From the Pillow module, how do you get the RGBA value of any images?"
   ]
  },
  {
   "cell_type": "code",
   "execution_count": 16,
   "id": "ad8d4e16",
   "metadata": {},
   "outputs": [],
   "source": [
    "from PIL import Image\n",
    "import collections"
   ]
  },
  {
   "cell_type": "code",
   "execution_count": 18,
   "id": "9b2b1fb3",
   "metadata": {},
   "outputs": [
    {
     "data": {
      "text/plain": [
       "Counter({(0, 0, 0, 255): 1041845,\n",
       "         (0, 9, 15, 255): 4,\n",
       "         (1, 43, 73, 255): 6,\n",
       "         (1, 73, 122, 255): 4,\n",
       "         (1, 97, 164, 255): 4,\n",
       "         (2, 117, 197, 255): 4,\n",
       "         (2, 132, 223, 255): 2,\n",
       "         (2, 142, 240, 255): 4,\n",
       "         (2, 147, 248, 255): 2,\n",
       "         (0, 19, 32, 255): 6,\n",
       "         (1, 68, 114, 255): 2,\n",
       "         (2, 112, 189, 255): 4,\n",
       "         (2, 148, 249, 255): 1583,\n",
       "         (1, 102, 172, 255): 2,\n",
       "         (1, 58, 98, 255): 2,\n",
       "         (2, 125, 211, 255): 4,\n",
       "         (1, 90, 152, 255): 4,\n",
       "         (1, 61, 102, 255): 4,\n",
       "         (0, 37, 62, 255): 2,\n",
       "         (0, 7, 11, 255): 4,\n",
       "         (0, 1, 1, 255): 2,\n",
       "         (1, 88, 147, 255): 2,\n",
       "         (0, 25, 42, 255): 2,\n",
       "         (1, 107, 181, 255): 2,\n",
       "         (2, 114, 191, 255): 2,\n",
       "         (1, 49, 82, 255): 2,\n",
       "         (11, 18, 22, 255): 2,\n",
       "         (2, 131, 221, 255): 2,\n",
       "         (1, 55, 92, 255): 2,\n",
       "         (13, 13, 13, 255): 12,\n",
       "         (162, 162, 162, 255): 12,\n",
       "         (117, 148, 170, 255): 6,\n",
       "         (148, 148, 148, 255): 6,\n",
       "         (204, 204, 204, 255): 516,\n",
       "         (121, 121, 121, 255): 52,\n",
       "         (2, 143, 240, 255): 2,\n",
       "         (1, 43, 72, 255): 2,\n",
       "         (80, 80, 80, 255): 6,\n",
       "         (197, 197, 197, 255): 6,\n",
       "         (29, 44, 56, 255): 2,\n",
       "         (26, 26, 26, 255): 19,\n",
       "         (196, 196, 196, 255): 12,\n",
       "         (59, 59, 59, 255): 6,\n",
       "         (134, 134, 134, 255): 12,\n",
       "         (84, 84, 84, 255): 22,\n",
       "         (60, 60, 60, 255): 18,\n",
       "         (124, 124, 124, 255): 12,\n",
       "         (155, 155, 155, 255): 12,\n",
       "         (181, 181, 181, 255): 6,\n",
       "         (9, 9, 9, 255): 12,\n",
       "         (75, 75, 75, 255): 6,\n",
       "         (141, 141, 141, 255): 6,\n",
       "         (157, 157, 157, 255): 16,\n",
       "         (67, 67, 67, 255): 9,\n",
       "         (94, 94, 94, 255): 6,\n",
       "         (173, 173, 173, 255): 12,\n",
       "         (100, 100, 100, 255): 12,\n",
       "         (34, 34, 34, 255): 105,\n",
       "         (51, 51, 51, 255): 2637,\n",
       "         (182, 182, 182, 255): 6,\n",
       "         (203, 203, 203, 255): 18,\n",
       "         (1, 1, 1, 255): 6,\n",
       "         (89, 89, 89, 255): 96,\n",
       "         (36, 36, 36, 255): 1,\n",
       "         (19, 19, 19, 255): 3,\n",
       "         (10, 10, 10, 255): 58,\n",
       "         (82, 82, 82, 255): 66,\n",
       "         (74, 74, 74, 255): 58,\n",
       "         (18, 18, 18, 255): 77,\n",
       "         (45, 45, 45, 255): 94,\n",
       "         (61, 61, 61, 255): 117,\n",
       "         (96, 96, 96, 255): 100,\n",
       "         (78, 78, 78, 255): 2,\n",
       "         (66, 66, 66, 255): 13,\n",
       "         (93, 93, 93, 255): 82,\n",
       "         (70, 70, 70, 255): 1,\n",
       "         (56, 56, 56, 255): 3,\n",
       "         (118, 135, 147, 255): 3,\n",
       "         (133, 133, 133, 255): 53,\n",
       "         (43, 43, 43, 255): 12,\n",
       "         (215, 215, 215, 255): 15,\n",
       "         (216, 216, 216, 255): 2,\n",
       "         (229, 229, 229, 255): 125,\n",
       "         (170, 170, 170, 255): 10,\n",
       "         (85, 85, 85, 255): 2,\n",
       "         (57, 57, 57, 255): 16,\n",
       "         (230, 230, 230, 255): 208,\n",
       "         (119, 119, 119, 255): 10,\n",
       "         (206, 206, 206, 255): 220,\n",
       "         (187, 187, 187, 255): 10,\n",
       "         (14, 14, 14, 255): 8,\n",
       "         (143, 143, 143, 255): 2,\n",
       "         (29, 29, 29, 255): 18,\n",
       "         (146, 146, 146, 255): 29,\n",
       "         (86, 86, 86, 255): 22,\n",
       "         (172, 172, 172, 255): 16,\n",
       "         (201, 201, 201, 255): 8,\n",
       "         (23, 23, 23, 255): 16,\n",
       "         (179, 179, 179, 255): 45,\n",
       "         (175, 175, 175, 255): 24,\n",
       "         (238, 238, 238, 255): 25,\n",
       "         (226, 226, 226, 255): 17,\n",
       "         (87, 87, 87, 255): 20,\n",
       "         (62, 62, 62, 255): 15,\n",
       "         (213, 213, 213, 255): 16,\n",
       "         (153, 153, 153, 255): 29,\n",
       "         (221, 221, 221, 255): 27,\n",
       "         (208, 208, 208, 255): 32,\n",
       "         (194, 194, 194, 255): 41,\n",
       "         (37, 37, 37, 255): 38,\n",
       "         (132, 132, 132, 255): 2,\n",
       "         (199, 199, 199, 255): 19,\n",
       "         (144, 144, 144, 255): 4,\n",
       "         (219, 219, 219, 255): 4,\n",
       "         (220, 220, 220, 255): 1,\n",
       "         (156, 156, 156, 255): 2,\n",
       "         (109, 109, 109, 255): 1,\n",
       "         (232, 232, 232, 255): 7,\n",
       "         (184, 184, 184, 255): 1,\n",
       "         (186, 186, 186, 255): 11,\n",
       "         (102, 102, 102, 255): 3,\n",
       "         (101, 101, 101, 255): 7,\n",
       "         (115, 115, 115, 255): 9,\n",
       "         (158, 158, 158, 255): 6,\n",
       "         (114, 114, 114, 255): 2,\n",
       "         (129, 129, 129, 255): 2})"
      ]
     },
     "execution_count": 18,
     "metadata": {},
     "output_type": "execute_result"
    }
   ],
   "source": [
    "imgobj = Image.open(r'C:\\Users\\lenovo\\OneDrive\\Pictures\\Screenshots\\Screenshot (1).png')\n",
    "pixels = imgobj.convert('RGBA')\n",
    "data = imgobj.getdata()\n",
    "counts = collections.Counter(data)\n",
    "counts"
   ]
  },
  {
   "cell_type": "markdown",
   "id": "801f88fc",
   "metadata": {},
   "source": [
    "In Pillow, RGBA values are represented by a tuple of four integer values. For example, the color red is represented by (255, 0, 0, 255). This color has the maximum amount of red, no green or blue, and the maximum alpha value, meaning it is fully opaque. Green is represented by (0, 255, 0, 255), and blue is (0, 0, 255, 255). White, the combination of all colors, is (255, 255, 255, 255), while black, which has no color at all, is (0, 0, 0, 255).\n",
    "\n",
    "If a color has an alpha value of 0, it is invisible, and it doesn’t really matter what the RGB values are. After all, invisible red looks the same as invisible black."
   ]
  },
  {
   "cell_type": "markdown",
   "id": "16dcc200",
   "metadata": {},
   "source": [
    "## 3. What is a box tuple, and how does it work?"
   ]
  },
  {
   "cell_type": "markdown",
   "id": "1690c81c",
   "metadata": {},
   "source": [
    "Many of Pillow’s functions and methods take a box tuple argument. This means Pillow is expecting a tuple of four integer coordinates that represent a rectangular region in an image. The four integers are, in order, as follows:\n",
    "\n",
    "- Left The x-coordinate of the leftmost edge of the box.\n",
    "\n",
    "- Top The y-coordinate of the top edge of the box.\n",
    "\n",
    "- Right The x-coordinate of one pixel to the right of the rightmost edge of the box. This integer must be greater than the left integer.\n",
    "\n",
    "- Bottom The y-coordinate of one pixel lower than the bottom edge of the box. This integer must be greater than the top integer.\n",
    "\n",
    "Note that the box includes the left and top coordinates and goes up to but does not include the right and bottom coordinates. "
   ]
  },
  {
   "cell_type": "markdown",
   "id": "131e0cd3",
   "metadata": {},
   "source": [
    "## 4. Use your image and load in notebook then, How can you find out the width and height of an Image object?"
   ]
  },
  {
   "cell_type": "code",
   "execution_count": 21,
   "id": "775a6e6e",
   "metadata": {},
   "outputs": [
    {
     "data": {
      "image/png": "[encoded data removed]",
      "text/plain": [
       "<Figure size 640x480 with 1 Axes>"
      ]
     },
     "metadata": {},
     "output_type": "display_data"
    }
   ],
   "source": [
    "import matplotlib.pyplot as plt\n",
    "import matplotlib.image as mpimg\n",
    "img = mpimg.imread(r'C:\\Users\\lenovo\\OneDrive\\Pictures\\Screenshots\\Screenshot (3).png')\n",
    "imgplot = plt.imshow(img)\n",
    "plt.show()"
   ]
  },
  {
   "cell_type": "code",
   "execution_count": 23,
   "id": "22013f98",
   "metadata": {},
   "outputs": [
    {
     "name": "stdout",
     "output_type": "stream",
     "text": [
      "The height of image is: 768, The width of image is 1366\n",
      "Size: (1366, 768)\n"
     ]
    }
   ],
   "source": [
    "img = Image.open(r'C:\\Users\\lenovo\\OneDrive\\Pictures\\Screenshots\\Screenshot (3).png')\n",
    "print(f\"The height of image is: {img.height}, The width of image is {img.width}\")\n",
    "print(f'Size: {img.sizee}')"
   ]
  },
  {
   "cell_type": "markdown",
   "id": "afc17ee0",
   "metadata": {},
   "source": [
    "## 5. What method would you call to get Image object for a 100×100 image, excluding the lower-left quarter of it?"
   ]
  },
  {
   "cell_type": "code",
   "execution_count": 24,
   "id": "7684b323",
   "metadata": {},
   "outputs": [],
   "source": [
    "# Get the width and height of the image\n",
    "width, height = img.size\n",
    "\n",
    "# Define the box to keep\n",
    "box = (0, 0, width / 2, height / 2)\n",
    "\n",
    "# Crop the image\n",
    "cropped_img = img.crop(box)\n",
    "\n",
    "# Show the cropped image\n",
    "cropped_img.show()"
   ]
  },
  {
   "cell_type": "markdown",
   "id": "0183c95b",
   "metadata": {},
   "source": [
    "## 6. After making changes to an Image object, how could you save it as an image file?"
   ]
  },
  {
   "cell_type": "markdown",
   "id": "67b1bb43",
   "metadata": {},
   "source": [
    "- Image.save() Saves this image under the given filename. If no format is specified, the format to use is determined from the filename extension, if possible.\n",
    "\n",
    "- Keyword options can be used to provide additional instructions to the writer. If a writer doesn’t recognise an option, it is silently ignored. The available options are described in the image format documentation for each writer.\n",
    "\n",
    "- You can use a file object instead of a filename. In this case, you must always specify the format. The file object must implement the seek, tell, and write methods, and be opened in binary mode. "
   ]
  },
  {
   "cell_type": "markdown",
   "id": "f250b9b9",
   "metadata": {},
   "source": [
    "Syntax: Image.save(fp, format=None, **params)"
   ]
  },
  {
   "cell_type": "code",
   "execution_count": 26,
   "id": "4960004c",
   "metadata": {},
   "outputs": [],
   "source": [
    "cropped_img.save('croped_img.png')"
   ]
  },
  {
   "cell_type": "markdown",
   "id": "e1714cee",
   "metadata": {},
   "source": [
    "## 7. What module contains Pillow’s shape-drawing code?"
   ]
  },
  {
   "cell_type": "markdown",
   "id": "af62aba8",
   "metadata": {},
   "source": [
    "- The ‘ImageDraw’ module provides simple 2D graphics support for Image Object. Generally, we use this module to create new images, annotate or retouch existing images and to generate graphics on the fly for web use.\n",
    "\n",
    "- The graphics commands support the drawing of shapes and annotation of text."
   ]
  },
  {
   "cell_type": "code",
   "execution_count": 27,
   "id": "48cfcd0a",
   "metadata": {},
   "outputs": [],
   "source": [
    "from PIL import Image, ImageDraw\n",
    "\n",
    "#Create Image object\n",
    "\n",
    "\n",
    "#Draw line\n",
    "draw = ImageDraw.Draw(img)\n",
    "draw.line((0, 0) + img.size, fill=128)\n",
    "draw.line((0, img.size[1], img.size[0], 0), fill=128)\n",
    "\n",
    "#Show image\n",
    "img.show()"
   ]
  },
  {
   "cell_type": "markdown",
   "id": "eb91f160",
   "metadata": {},
   "source": [
    "Canvas\n",
    "- An ImageDraw is a Pillow drawable surface (i.e., a canvas) of an Image.\n",
    "- ImageDraw.Draw(img) returns a drawable canvas representation of Image parameter img. The background of the canvas is the \"img\" image."
   ]
  },
  {
   "cell_type": "code",
   "execution_count": 2,
   "id": "75e6ecd0",
   "metadata": {},
   "outputs": [],
   "source": [
    "#Import required modules from Pillow package\n",
    "from PIL import Image, ImageDraw, ImageFont\n",
    "\n",
    "# get an image\n",
    "base = Image.open(r'C:\\Users\\lenovo\\OneDrive\\Pictures\\Screenshots\\Screenshot (3).png').convert('RGBA')\n",
    "\n",
    "# make a blank image for the text, initialized to transparent text color\n",
    "txt = Image.new('RGBA', base.size, (255,255,255,0))\n",
    "\n",
    "# get a drawing context\n",
    "d = ImageDraw.Draw(txt)\n",
    "\n",
    "# draw text, half opacity\n",
    "d.text((14,14), \"Tutorials\", fill=(255,255,255,128))\n",
    "\n",
    "# draw text, full opacity\n",
    "d.text((14,60), \"Point\", fill=(255,255,255,255))\n",
    "out = Image.alpha_composite(base, txt)\n",
    "\n",
    "#Show image\n",
    "out.show()"
   ]
  },
  {
   "cell_type": "markdown",
   "id": "98ab8878",
   "metadata": {},
   "source": [
    "## 8. Image objects do not have drawing methods. What kind of object does? How do you get this kind of object?"
   ]
  },
  {
   "cell_type": "markdown",
   "id": "b0439730",
   "metadata": {},
   "source": [
    "The ImageDraw class in the Python Imaging Library (PIL), also known as Pillow, provides drawing methods for creating and editing images."
   ]
  },
  {
   "cell_type": "code",
   "execution_count": 4,
   "id": "ad1c0b40",
   "metadata": {},
   "outputs": [],
   "source": [
    "from PIL import Image, ImageDraw\n",
    "\n",
    "# Open an image file\n",
    "im = Image.open(r'C:\\Users\\lenovo\\OneDrive\\Pictures\\Screenshots\\Screenshot (3).png')\n",
    "\n",
    "# Create an ImageDraw object\n",
    "draw = ImageDraw.Draw(im)\n"
   ]
  },
  {
   "cell_type": "markdown",
   "id": "55339710",
   "metadata": {},
   "source": [
    "ImageDraw object, you can use its various drawing methods to add shapes, lines, text, and other elements to the image."
   ]
  },
  {
   "cell_type": "code",
   "execution_count": 8,
   "id": "cdf1ade1",
   "metadata": {},
   "outputs": [],
   "source": [
    "# Draw a line\n",
    "draw.line((0, 0) + im.size, fill=128)\n",
    "\n",
    "# Draw a rectangle\n",
    "draw.rectangle((0, 0, 50, 50), fill=(255, 0, 0))\n",
    "\n",
    "# Draw an ellipse\n",
    "draw.ellipse((0, 0, 100, 100), fill=(0, 255, 0))\n",
    "\n",
    "# Draw some text\n",
    "draw.text((0, 0), \"Hello, World!\", fill=(0, 0, 255))\n",
    "im.show()"
   ]
  }
 ],
 "metadata": {
  "kernelspec": {
   "display_name": "Python 3 (ipykernel)",
   "language": "python",
   "name": "python3"
  },
  "language_info": {
   "codemirror_mode": {
    "name": "ipython",
    "version": 3
   },
   "file_extension": ".py",
   "mimetype": "text/x-python",
   "name": "python",
   "nbconvert_exporter": "python",
   "pygments_lexer": "ipython3",
   "version": "3.10.9"
  }
 },
 "nbformat": 4,
 "nbformat_minor": 5
}
