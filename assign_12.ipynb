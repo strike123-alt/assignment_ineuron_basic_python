{
 "cells": [
  {
   "cell_type": "markdown",
   "id": "8197d63c",
   "metadata": {},
   "source": [
    "## 1. In what modes should the PdfFileReader() and PdfFileWriter() File objects will be opened?"
   ]
  },
  {
   "cell_type": "markdown",
   "id": "0e37fc56",
   "metadata": {},
   "source": [
    "For PdfFileReader() file objects should be opened in rb -> read binary mode, Whereas for PdfFileWriter() file objects should be opened in wb -> write binary mode."
   ]
  },
  {
   "cell_type": "code",
   "execution_count": 9,
   "id": "a8080e3e",
   "metadata": {},
   "outputs": [],
   "source": [
    "import PyPDF2\n",
    "sample = open('sample.pdf', 'rb')\n",
    "pdfReader = PyPDF2.PdfReader(sample)\n"
   ]
  },
  {
   "cell_type": "code",
   "execution_count": 19,
   "id": "a43fb683",
   "metadata": {},
   "outputs": [],
   "source": [
    "page_1 = pdfReader.pages[1]"
   ]
  },
  {
   "cell_type": "code",
   "execution_count": 23,
   "id": "b05d37e9",
   "metadata": {},
   "outputs": [
    {
     "name": "stdout",
     "output_type": "stream",
     "text": [
      " Simple PDF File 2 \n",
      " ...continued from page 1. Yet more text. And more text. And more text. \n",
      " And more text. And more text. And more text. And more text. And more \n",
      " text. Oh, how boring typing this stuff. But not as boring as watching \n",
      " paint dry. And more text. And more text. And more text. And more text. \n",
      " Boring.  More, a little more text. The end, and just as well. \n"
     ]
    }
   ],
   "source": [
    "print(page_1.extract_text())"
   ]
  },
  {
   "cell_type": "code",
   "execution_count": 25,
   "id": "4ffc1638",
   "metadata": {},
   "outputs": [
    {
     "name": "stdout",
     "output_type": "stream",
     "text": [
      "Page type: <class 'PyPDF2._page.PageObject'>\n"
     ]
    }
   ],
   "source": [
    "print(f'Page type: {str(type(page_1))}')"
   ]
  },
  {
   "cell_type": "code",
   "execution_count": 31,
   "id": "8b19ae39",
   "metadata": {},
   "outputs": [
    {
     "data": {
      "text/plain": [
       "2"
      ]
     },
     "execution_count": 31,
     "metadata": {},
     "output_type": "execute_result"
    }
   ],
   "source": [
    "len(pdfReader.pages)"
   ]
  },
  {
   "cell_type": "code",
   "execution_count": 43,
   "id": "ca30fc9a",
   "metadata": {},
   "outputs": [],
   "source": [
    "output_pdf = open('out_pdf.pdf', 'wb')\n",
    "pdfWriter = PyPDF2.PdfWriter()\n"
   ]
  },
  {
   "cell_type": "code",
   "execution_count": 51,
   "id": "9ed27158",
   "metadata": {},
   "outputs": [
    {
     "data": {
      "text/plain": [
       "{'/Type': '/Page',\n",
       " '/Resources': {},\n",
       " '/MediaBox': [0, 0, 595, 842],\n",
       " '/Parent': {'/Type': '/Pages',\n",
       "  '/Count': 9,\n",
       "  '/Kids': [IndirectObject(4, 0, 1664410381056),\n",
       "   IndirectObject(5, 0, 1664410381056),\n",
       "   IndirectObject(6, 0, 1664410381056),\n",
       "   IndirectObject(7, 0, 1664410381056),\n",
       "   IndirectObject(8, 0, 1664410381056),\n",
       "   IndirectObject(9, 0, 1664410381056),\n",
       "   IndirectObject(10, 0, 1664410381056),\n",
       "   IndirectObject(11, 0, 1664410381056),\n",
       "   IndirectObject(12, 0, 1664410381056)]}}"
      ]
     },
     "execution_count": 51,
     "metadata": {},
     "output_type": "execute_result"
    }
   ],
   "source": [
    "page = pdfWriter.add_blank_page(width = 595, height = 842)\n",
    "pdfWriter.add_page(page)\n"
   ]
  },
  {
   "cell_type": "code",
   "execution_count": 45,
   "id": "47b61a98",
   "metadata": {},
   "outputs": [
    {
     "data": {
      "text/plain": [
       "(False, <_io.BufferedWriter name='out_pdf.pdf'>)"
      ]
     },
     "execution_count": 45,
     "metadata": {},
     "output_type": "execute_result"
    }
   ],
   "source": [
    "pdfWriter.write(output_pdf)"
   ]
  },
  {
   "cell_type": "code",
   "execution_count": 46,
   "id": "d83b1669",
   "metadata": {},
   "outputs": [],
   "source": [
    "output_pdf.close()"
   ]
  },
  {
   "cell_type": "markdown",
   "id": "b03d6fef",
   "metadata": {},
   "source": [
    "## 2. From a PdfFileReader object, how do you get a Page object for page 5?"
   ]
  },
  {
   "cell_type": "code",
   "execution_count": 56,
   "id": "37a4a552",
   "metadata": {},
   "outputs": [
    {
     "name": "stdout",
     "output_type": "stream",
     "text": [
      " Simple PDF File 2 \n",
      " ...continued from page 1. Yet more text. And more text. And more text. \n",
      " And more text. And more text. And more text. And more text. And more \n",
      " text. Oh, how boring typing this stuff. But not as boring as watching \n",
      " paint dry. And more text. And more text. And more text. And more text. \n",
      " Boring.  More, a little more text. The end, and just as well. \n",
      "Page type: <class 'PyPDF2._page.PageObject'>\n"
     ]
    }
   ],
   "source": [
    "sample = open('sample.pdf', 'rb')\n",
    "pdfReader = PyPDF2.PdfReader(sample)\n",
    "page_1 = pdfReader.pages[1] # give index of the page number in our eg 5.\n",
    "print(page_1.extract_text())\n",
    "print(f'Page type: {str(type(page_1))}')"
   ]
  },
  {
   "cell_type": "markdown",
   "id": "d09d28e5",
   "metadata": {},
   "source": [
    "## 3. What PdfFileReader variable stores the number of pages in the PDF document?"
   ]
  },
  {
   "cell_type": "code",
   "execution_count": 62,
   "id": "227d2573",
   "metadata": {},
   "outputs": [
    {
     "data": {
      "text/plain": [
       "2"
      ]
     },
     "execution_count": 62,
     "metadata": {},
     "output_type": "execute_result"
    }
   ],
   "source": [
    "len(pdfReader.pages) # in version\n",
    "# pdfReader.numPages() Deprecation"
   ]
  },
  {
   "cell_type": "markdown",
   "id": "47db89d5",
   "metadata": {},
   "source": [
    "## 4. If a PdfFileReader object’s PDF is encrypted with the password swordfish, what must you do before you can obtain Page objects from it?"
   ]
  },
  {
   "cell_type": "markdown",
   "id": "668a90bc",
   "metadata": {},
   "source": [
    "1. If a PdfFileReader object’s PDF is encrypted with the password swordfish and you're not aware of it. first read the Pdf using the PdfFileReader Class. \n",
    "2. PdfFileReader class provides a attribute called isEncrypted to check whether a pdf is encrypted or not. the method returns true if a pdf is encrypted and vice versa.\n",
    "3. if pdf is encrypted use the decrypt() method provided by PdfFileReader class first then try to read the contents/pages of the pdf, else PyPDF2 will raise the following error PyPDF2.utils.PdfReadError: file has not been decrypted"
   ]
  },
  {
   "cell_type": "code",
   "execution_count": 64,
   "id": "1f165ad4",
   "metadata": {},
   "outputs": [
    {
     "data": {
      "text/plain": [
       "False"
      ]
     },
     "execution_count": 64,
     "metadata": {},
     "output_type": "execute_result"
    }
   ],
   "source": [
    "pdfReader.is_encrypted"
   ]
  },
  {
   "cell_type": "markdown",
   "id": "0f8efc44",
   "metadata": {},
   "source": [
    "## 5. What methods do you use to rotate a page?"
   ]
  },
  {
   "cell_type": "markdown",
   "id": "454c0cde",
   "metadata": {},
   "source": [
    "PyPDF2 Package provides 2 methods to rotate a page:\n",
    "\n",
    "1. rotateClockWise() -> For Clockwise rotation\n",
    "2. rotateCounterClockWise() -> For Counter Clockwise rotation\n",
    "\n"
   ]
  },
  {
   "cell_type": "markdown",
   "id": "b004a3ea",
   "metadata": {},
   "source": [
    "## 6. What is the difference between a Run object and a Paragraph object?"
   ]
  },
  {
   "cell_type": "markdown",
   "id": "eb83ec14",
   "metadata": {},
   "source": [
    "1. Paragraph Object : A document contains multiple paragraphs. A paragraph begins on a new line and contains multiple\n",
    "runs. The Document object contains a list of Paragraph objects for the paragraphs in the document. \n",
    "(A new paragraph begins whenever the user presses ENTER or RETURN while typing in a Word document.)\n",
    "\n",
    "2. The text in a Word document is more than just a string. It has font, size, color, and other styling information associated with it. A style in Word is a collection of these attributes. Run Objects : Runs are contiguous groups of characters within a paragraph with the same style"
   ]
  },
  {
   "cell_type": "markdown",
   "id": "b4e57028",
   "metadata": {},
   "source": [
    "## 7. How do you obtain a list of Paragraph objects for a Document object that’s stored in a variable named doc?"
   ]
  },
  {
   "cell_type": "code",
   "execution_count": 73,
   "id": "c145265f",
   "metadata": {},
   "outputs": [
    {
     "data": {
      "text/plain": [
       "'<docx.text.paragraph.Paragraph object at 0x0000018388235180>'"
      ]
     },
     "execution_count": 73,
     "metadata": {},
     "output_type": "execute_result"
    }
   ],
   "source": [
    "import docx\n",
    "doc = docx.Document(r'D:\\TY\\Sem6\\Blockchain\\Blockchain in Digital Marketing.docx')\n",
    "len(doc.paragraphs)"
   ]
  },
  {
   "cell_type": "markdown",
   "id": "7c2e9ddb",
   "metadata": {},
   "source": [
    "## 8. What type of object has bold, underline, italic, strike, and outline variables?"
   ]
  },
  {
   "cell_type": "markdown",
   "id": "0cc56b83",
   "metadata": {},
   "source": [
    "Run object has bold, underline, italic, strike, and outline variables. The text in a Word document is more than just a string. It has font, size, color, and other styling information associated with it.\n",
    "\n",
    "A style in Word is a collection of these attributes. A Run object is a contiguous run of text with the same style. A new Run object is needed whenever the text style changes."
   ]
  },
  {
   "cell_type": "markdown",
   "id": "158977ae",
   "metadata": {},
   "source": [
    "## 9. What is the difference between False, True, and None for the bold variable?"
   ]
  },
  {
   "cell_type": "markdown",
   "id": "ec785013",
   "metadata": {},
   "source": [
    "Runs can be further styled using text attributes. Each attribute can be set to one of three values:\n",
    "- True (the attribute is always enabled, no matter what other styles are applied to the run),\n",
    "- False (the attribute is always disabled),\n",
    "- None (defaults to whatever the run’s style is set to)\n",
    "\n",
    "True always makes the Run object bolded and False makes it always not bolded, no matter what the style’s bold setting is. \n",
    "None will make the Run object just use the style’s bold setting"
   ]
  },
  {
   "cell_type": "markdown",
   "id": "29acb7f0",
   "metadata": {},
   "source": [
    "## 10. How do you create a Document object for a new Word document?"
   ]
  },
  {
   "cell_type": "code",
   "execution_count": 75,
   "id": "069686d5",
   "metadata": {},
   "outputs": [],
   "source": [
    "from docx import Document\n",
    "doc = Document()\n",
    "doc.add_paragraph(\"Python Programming\")\n",
    "doc.save('doc.docx')"
   ]
  },
  {
   "cell_type": "markdown",
   "id": "cb468ed8",
   "metadata": {},
   "source": [
    "## 11. How do you add a paragraph with the text &#39;Hello, there!&#39; to a Document object stored in a variable named doc?"
   ]
  },
  {
   "cell_type": "code",
   "execution_count": 76,
   "id": "8fc80556",
   "metadata": {},
   "outputs": [],
   "source": [
    "doc = Document()\n",
    "doc.add_paragraph('Hello, there!')\n",
    "doc.save('hello.docx')"
   ]
  },
  {
   "cell_type": "markdown",
   "id": "f68c95eb",
   "metadata": {},
   "source": [
    "## 12. What integers represent the levels of headings available in Word documents?"
   ]
  },
  {
   "cell_type": "markdown",
   "id": "2568cc55",
   "metadata": {},
   "source": [
    "The arguments to add_heading() are a string of the heading text and an integer from 0 to 4. The integer 0 makes the heading the Title style, which is used for the top of the document. Integers 1 to 4 are for various heading levels, with 1 being the main heading and 4 the lowest subheading. The add_heading() function returns a Paragraph object to save you the step of extracting it from the Document object as a separate step."
   ]
  },
  {
   "cell_type": "code",
   "execution_count": 77,
   "id": "124ffa95",
   "metadata": {},
   "outputs": [
    {
     "data": {
      "text/plain": [
       "<docx.text.paragraph.Paragraph at 0x1838946b610>"
      ]
     },
     "execution_count": 77,
     "metadata": {},
     "output_type": "execute_result"
    }
   ],
   "source": [
    "doc = Document()\n",
    "doc.add_heading('Header 0', 0)\n",
    "doc.add_heading('Header 1', 1)"
   ]
  }
 ],
 "metadata": {
  "kernelspec": {
   "display_name": "Python 3 (ipykernel)",
   "language": "python",
   "name": "python3"
  },
  "language_info": {
   "codemirror_mode": {
    "name": "ipython",
    "version": 3
   },
   "file_extension": ".py",
   "mimetype": "text/x-python",
   "name": "python",
   "nbconvert_exporter": "python",
   "pygments_lexer": "ipython3",
   "version": "3.10.9"
  }
 },
 "nbformat": 4,
 "nbformat_minor": 5
}
